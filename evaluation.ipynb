{
 "cells": [
  {
   "cell_type": "code",
   "execution_count": null,
   "metadata": {},
   "outputs": [],
   "source": [
    "# Check if running in Google Colab\n",
    "try:\n",
    "    import google.colab\n",
    "    IN_COLAB = True\n",
    "except:\n",
    "    IN_COLAB = False\n",
    "\n",
    "if IN_COLAB:\n",
    "    # Clone repository and install dependencies\n",
    "    !git clone https://github.com/khaytao/LocCCA/\n",
    "    %cd LocCCA\n",
    "    !pip install -r requirements.txt\n",
    "\n",
    "    "
   ]
  },
  {
   "cell_type": "code",
   "execution_count": 6,
   "metadata": {},
   "outputs": [
    {
     "name": "stdout",
     "output_type": "stream",
     "text": [
      "['data-generation', 'train', 'eval']\n"
     ]
    }
   ],
   "source": [
    "import json\n",
    "\n",
    "# Load config file\n",
    "with open('config/colab_configs.json', 'r') as f:\n",
    "    configs = json.load(f)\n",
    "\n",
    "    print(configs[\"tasks\"])\n"
   ]
  },
  {
   "cell_type": "code",
   "execution_count": null,
   "metadata": {},
   "outputs": [],
   "source": [
    "# Run data generation if enabled in config\n",
    "if \"data-generation\" in configs[\"tasks\"]:\n",
    "    data_gen_args = configs[\"data-generation\"]\n",
    "    cmd = f\"python dataset_generation.py\"\n",
    "    \n",
    "    # Add all arguments from config\n",
    "    cmd += f\" --room_dim {data_gen_args['room_dim'][0]} {data_gen_args['room_dim'][1]} {data_gen_args['room_dim'][2]}\"\n",
    "    cmd += f\" --t60 {data_gen_args['t60']}\"\n",
    "    cmd += f\" --fs {data_gen_args['fs']}\" \n",
    "    cmd += f\" --mic_height {data_gen_args['mic_height']}\"\n",
    "    cmd += f\" --array_distance {data_gen_args['array_distance']}\"\n",
    "    cmd += f\" --height {data_gen_args['height']}\"\n",
    "    cmd += f\" --num_speakers {data_gen_args['num_speakers']}\"\n",
    "    cmd += f\" --distribution {data_gen_args['distribution']}\"\n",
    "    cmd += f\" --centroids {data_gen_args['centroids'][0]} {data_gen_args['centroids'][1]}\"\n",
    "    cmd += f\" --std {data_gen_args['std']}\"\n",
    "    cmd += f\" --data_location {data_gen_args['data_location']}\"\n",
    "    cmd += f\" --dataset_name {data_gen_args['dataset_name']}\"\n",
    "    cmd += f\" --room_resolution {data_gen_args['room_resolution']}\"\n",
    "    \n",
    "    !{cmd}\n"
   ]
  },
  {
   "cell_type": "code",
   "execution_count": 7,
   "metadata": {},
   "outputs": [
    {
     "name": "stdout",
     "output_type": "stream",
     "text": [
      "Figure(640x480)\n",
      "Number of failures: 5\n",
      "MSE: 0.02382950857281685\n"
     ]
    },
    {
     "name": "stderr",
     "output_type": "stream",
     "text": [
      "INFO:speechbrain.utils.quirks:Applied quirks (see `speechbrain.utils.quirks`): [allow_tf32, disable_jit_profiling]\n",
      "INFO:speechbrain.utils.quirks:Excluded quirks specified by the `SB_DISABLE_QUIRKS` environment (comma-separated list): []\n",
      "\n",
      "  0%|          | 0/10 [00:00<?, ?it/s]\n",
      " 10%|█         | 1/10 [00:01<00:10,  1.16s/it]\n",
      " 20%|██        | 2/10 [00:01<00:06,  1.27it/s]\n",
      " 30%|███       | 3/10 [00:02<00:04,  1.70it/s]\n",
      " 40%|████      | 4/10 [00:02<00:02,  2.07it/s]\n",
      " 50%|█████     | 5/10 [00:02<00:02,  2.41it/s]\n",
      " 60%|██████    | 6/10 [00:02<00:01,  2.60it/s]\n",
      " 70%|███████   | 7/10 [00:03<00:01,  2.76it/s]\n",
      " 80%|████████  | 8/10 [00:03<00:00,  2.82it/s]\n",
      " 90%|█████████ | 9/10 [00:03<00:00,  2.89it/s]\n",
      "100%|██████████| 10/10 [00:04<00:00,  2.95it/s]\n",
      "100%|██████████| 10/10 [00:04<00:00,  2.33it/s]\n"
     ]
    }
   ],
   "source": [
    "# Run evaluation if enabled in config\n",
    "if \"eval\" in configs[\"tasks\"]:\n",
    "    eval_args = configs[\"eval\"]\n",
    "    cmd = f\"python eval_model.py\"\n",
    "    \n",
    "    # Add all arguments from config\n",
    "    cmd += f\" --model {eval_args['model']}\"\n",
    "    cmd += f\" --data_dir {eval_args['data_dir']}\" \n",
    "    cmd += f\" --threshold {eval_args['threshold']}\"\n",
    "    cmd += f\" --plot {eval_args['plot']}\"\n",
    "    \n",
    "    !{cmd}\n"
   ]
  }
 ],
 "metadata": {
  "kernelspec": {
   "display_name": ".venv",
   "language": "python",
   "name": "python3"
  },
  "language_info": {
   "codemirror_mode": {
    "name": "ipython",
    "version": 3
   },
   "file_extension": ".py",
   "mimetype": "text/x-python",
   "name": "python",
   "nbconvert_exporter": "python",
   "pygments_lexer": "ipython3",
   "version": "3.11.7"
  }
 },
 "nbformat": 4,
 "nbformat_minor": 2
}
