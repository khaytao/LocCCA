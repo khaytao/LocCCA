{
 "cells": [
  {
   "cell_type": "code",
   "execution_count": null,
   "metadata": {},
   "outputs": [],
   "source": [
    "# Check if running in Google Colab\n",
    "import os\n",
    "\n",
    "try:\n",
    "    import google.colab\n",
    "    IN_COLAB = True\n",
    "except:\n",
    "    IN_COLAB = False\n",
    "\n",
    "if IN_COLAB:\n",
    "    if os.path.basename(os.getcwd()) == 'LocCCA':\n",
    "        pass\n",
    "    else:\n",
    "        if not os.path.exists('LocCCA'):\n",
    "            !git clone https://github.com/khaytao/LocCCA/\n",
    "        %cd LocCCA\n",
    "    # Clone repository and install dependencies if needed\n",
    "\n",
    "\n",
    "    \n",
    "    # Change to LocCCA directory if not already there\n",
    "\n",
    "        \n",
    "    %pip install -r requirements.txt\n",
    "\n",
    "    "
   ]
  },
  {
   "cell_type": "code",
   "execution_count": 11,
   "metadata": {},
   "outputs": [
    {
     "name": "stdout",
     "output_type": "stream",
     "text": [
      "['data-generation', 'train', 'eval']\n"
     ]
    }
   ],
   "source": [
    "import json\n",
    "# Load config file\n",
    "with open('config/colab_configs.json', 'r') as f:\n",
    "    configs = json.load(f)\n",
    "\n",
    "    print(configs[\"tasks\"])\n"
   ]
  },
  {
   "cell_type": "code",
   "execution_count": null,
   "metadata": {},
   "outputs": [],
   "source": [
    "# Run data generation if enabled in config\n",
    "if \"data-generation\" in configs[\"tasks\"]:\n",
    "    data_gen_args = configs[\"data-generation\"]\n",
    "    cmd = f\"python dataset_generation.py\"\n",
    "    \n",
    "    # Add all arguments from config\n",
    "    cmd += f\" --room_dim {data_gen_args['room_dim'][0]} {data_gen_args['room_dim'][1]} {data_gen_args['room_dim'][2]}\"\n",
    "    cmd += f\" --t60 {data_gen_args['t60']}\"\n",
    "    cmd += f\" --fs {data_gen_args['fs']}\" \n",
    "    cmd += f\" --mic_height {data_gen_args['mic_height']}\"\n",
    "    cmd += f\" --array_distance {data_gen_args['array_distance']}\"\n",
    "    cmd += f\" --height {data_gen_args['height']}\"\n",
    "    cmd += f\" --num_speakers {data_gen_args['num_speakers']}\"\n",
    "    cmd += f\" --distribution {data_gen_args['distribution']}\"\n",
    "    cmd += f\" --centroids {data_gen_args['centroids'][0]} {data_gen_args['centroids'][1]}\"\n",
    "    cmd += f\" --std {data_gen_args['std']}\"\n",
    "    cmd += f\" --data_location {data_gen_args['data_location']}\"\n",
    "    cmd += f\" --dataset_name {data_gen_args['dataset_name']}\"\n",
    "    cmd += f\" --room_resolution {data_gen_args['room_resolution']}\"\n",
    "    \n",
    "    !{cmd}\n"
   ]
  },
  {
   "cell_type": "code",
   "execution_count": null,
   "metadata": {},
   "outputs": [
    {
     "name": "stdout",
     "output_type": "stream",
     "text": [
      "Figure(640x480)\n",
      "Number of failures: 5/10\n",
      "MSE: 0.02382950857281685\n",
      "\n",
      "Results saved to performance.xlsx\n",
      "Model: music\n",
      "Failure percentage: 50.00%\n",
      "MSE: 0.0238\n"
     ]
    },
    {
     "name": "stderr",
     "output_type": "stream",
     "text": [
      "INFO:speechbrain.utils.quirks:Applied quirks (see `speechbrain.utils.quirks`): [disable_jit_profiling, allow_tf32]\n",
      "INFO:speechbrain.utils.quirks:Excluded quirks specified by the `SB_DISABLE_QUIRKS` environment (comma-separated list): []\n",
      "\n",
      "  0%|          | 0/10 [00:00<?, ?it/s]\n",
      " 10%|█         | 1/10 [00:00<00:03,  2.75it/s]\n",
      " 20%|██        | 2/10 [00:00<00:02,  3.03it/s]\n",
      " 30%|███       | 3/10 [00:00<00:02,  3.18it/s]\n",
      " 40%|████      | 4/10 [00:01<00:01,  3.27it/s]\n",
      " 50%|█████     | 5/10 [00:01<00:01,  3.25it/s]\n",
      " 60%|██████    | 6/10 [00:01<00:01,  3.23it/s]\n",
      " 70%|███████   | 7/10 [00:02<00:00,  3.26it/s]\n",
      " 80%|████████  | 8/10 [00:02<00:00,  3.24it/s]\n",
      " 90%|█████████ | 9/10 [00:02<00:00,  3.30it/s]\n",
      "100%|██████████| 10/10 [00:03<00:00,  3.35it/s]\n",
      "100%|██████████| 10/10 [00:03<00:00,  3.25it/s]\n"
     ]
    }
   ],
   "source": [
    "# Run evaluation if enabled in config\n",
    "if \"eval\" in configs[\"tasks\"]:\n",
    "    import eval_model\n",
    "    from argparse import Namespace\n",
    "    \n",
    "    # Create args namespace from config\n",
    "    eval_args = configs[\"eval\"]\n",
    "    args = Namespace(\n",
    "        model=eval_args['model'],\n",
    "        data_dir=eval_args['data_dir'],\n",
    "        threshold=eval_args['threshold'],\n",
    "        plot=eval_args['plot'],\n",
    "        performance_file=eval_args['performance_file']\n",
    "    )\n",
    "    \n",
    "    # Run evaluation\n",
    "    eval_model.main(args)\n",
    "    \n",
    "    if IN_COLAB:\n",
    "        from google.colab import files\n",
    "        files.download(eval_args['performance_file'])\n"
   ]
  },
  {
   "cell_type": "code",
   "execution_count": null,
   "metadata": {},
   "outputs": [],
   "source": [
    "# Download generated data if in colab\n",
    "if IN_COLAB:\n",
    "    import os\n",
    "    import shutil\n",
    "    \n",
    "    download = input(\"Would you like to download the generated data? (y/n): \")\n",
    "    \n",
    "    if download.lower() == 'y':\n",
    "        # Create zip file of generated data\n",
    "        data_dir = \"data/generated\"\n",
    "        zip_name = \"generated_data.zip\"\n",
    "        \n",
    "        if os.path.exists(data_dir):\n",
    "            shutil.make_archive(\"generated_data\", 'zip', data_dir)\n",
    "            files.download(zip_name)\n",
    "            print(f\"Downloaded {zip_name}\")\n",
    "        else:\n",
    "            print(f\"Directory {data_dir} does not exist\")\n"
   ]
  }
 ],
 "metadata": {
  "kernelspec": {
   "display_name": ".venv",
   "language": "python",
   "name": "python3"
  },
  "language_info": {
   "codemirror_mode": {
    "name": "ipython",
    "version": 3
   },
   "file_extension": ".py",
   "mimetype": "text/x-python",
   "name": "python",
   "nbconvert_exporter": "python",
   "pygments_lexer": "ipython3",
   "version": "3.11.7"
  }
 },
 "nbformat": 4,
 "nbformat_minor": 2
}
