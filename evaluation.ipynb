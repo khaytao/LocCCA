{
 "cells": [
  {
   "cell_type": "code",
   "execution_count": null,
   "metadata": {},
   "outputs": [],
   "source": [
    "# Check if running in Google Colab\n",
    "try:\n",
    "    import google.colab\n",
    "    IN_COLAB = True\n",
    "except:\n",
    "    IN_COLAB = False\n",
    "\n",
    "if IN_COLAB:\n",
    "    # Clone repository and install dependencies\n",
    "    !git clone https://github.com/khaytao/LocCCA/\n",
    "    %cd LocCCA\n",
    "    !pip install -r requirements.txt"
   ]
  },
  {
   "cell_type": "code",
   "execution_count": 4,
   "metadata": {},
   "outputs": [
    {
     "name": "stdout",
     "output_type": "stream",
     "text": [
      "Figure(640x480)\n",
      "Number of failures: 5\n",
      "MSE: 0.02382950857281685\n"
     ]
    },
    {
     "name": "stderr",
     "output_type": "stream",
     "text": [
      "INFO:speechbrain.utils.quirks:Applied quirks (see `speechbrain.utils.quirks`): [disable_jit_profiling, allow_tf32]\n",
      "INFO:speechbrain.utils.quirks:Excluded quirks specified by the `SB_DISABLE_QUIRKS` environment (comma-separated list): []\n",
      "\n",
      "  0%|          | 0/10 [00:00<?, ?it/s]\n",
      " 10%|█         | 1/10 [00:00<00:04,  1.89it/s]\n",
      " 20%|██        | 2/10 [00:00<00:03,  2.09it/s]\n",
      " 30%|███       | 3/10 [00:01<00:03,  2.29it/s]\n",
      " 40%|████      | 4/10 [00:01<00:02,  2.31it/s]\n",
      " 50%|█████     | 5/10 [00:02<00:01,  2.61it/s]\n",
      " 60%|██████    | 6/10 [00:02<00:01,  2.86it/s]\n",
      " 70%|███████   | 7/10 [00:02<00:00,  3.08it/s]\n",
      " 80%|████████  | 8/10 [00:02<00:00,  2.99it/s]\n",
      " 90%|█████████ | 9/10 [00:03<00:00,  3.14it/s]\n",
      "100%|██████████| 10/10 [00:03<00:00,  3.25it/s]\n",
      "100%|██████████| 10/10 [00:03<00:00,  2.81it/s]\n"
     ]
    }
   ],
   "source": [
    "# Run evaluation\n",
    "!python eval_model.py --model music --data_dir data/generated/TIMIT_sample --threshold 0.5 --plot True --device cpu\n",
    "\n"
   ]
  }
 ],
 "metadata": {
  "kernelspec": {
   "display_name": ".venv",
   "language": "python",
   "name": "python3"
  },
  "language_info": {
   "codemirror_mode": {
    "name": "ipython",
    "version": 3
   },
   "file_extension": ".py",
   "mimetype": "text/x-python",
   "name": "python",
   "nbconvert_exporter": "python",
   "pygments_lexer": "ipython3",
   "version": "3.11.7"
  }
 },
 "nbformat": 4,
 "nbformat_minor": 2
}
